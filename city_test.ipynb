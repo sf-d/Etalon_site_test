{
 "cells": [
  {
   "cell_type": "code",
   "execution_count": null,
   "outputs": [],
   "source": [
    "import osmnx as ox\n",
    "import networkx as nx\n",
    "import matplotlib.pyplot as plt\n",
    "from shapely.geometry import Point, Polygon, LineString, MultiLineString"
   ],
   "metadata": {
    "collapsed": false,
    "pycharm": {
     "name": "#%%\n"
    }
   }
  },
  {
   "cell_type": "code",
   "execution_count": null,
   "outputs": [],
   "source": [
    "\n",
    "class GoalPolygon:\n",
    "    def __init__(self, name):\n",
    "        self.name = name\n",
    "        self.frame = ox.geocode_to_gdf(name)\n",
    "        self.frameproj = ox.project_gdf(ox.geocode_to_gdf(name))\n",
    "        self.polygon = self.coordinates_poly()\n",
    "        self.network = self.network_clean()\n",
    "\n",
    "    def coordinates_poly(self):\n",
    "        coordinates = []\n",
    "        polygon = self.frameproj.boundary[0]\n",
    "        # coordinates = list(polygon.coords)\n",
    "        for i in polygon.coords:\n",
    "            coordinates.append(list(i))\n",
    "        return Polygon(coordinates)\n",
    "\n",
    "    def network_clean(self):\n",
    "        network = ox.graph_from_place(self.name, network_type=\"all\", buffer_dist=50)\n",
    "        network = ox.project_graph(network)\n",
    "        gdf_nodes, gdf_edges = ox.graph_to_gdfs(network)\n",
    "\n",
    "        for i in gdf_edges.geometry.keys():\n",
    "            if gdf_edges.geometry[i].crosses(self.polygon) or self.polygon.covers(gdf_edges.geometry[i]):\n",
    "                network.remove_edge(*i)\n",
    "            else:\n",
    "                pass\n",
    "        network = ox.utils_graph.remove_isolated_nodes(network)\n",
    "        #ox.plot_graph(network)\n",
    "        return network\n",
    "\n"
   ],
   "metadata": {
    "collapsed": false,
    "pycharm": {
     "name": "#%%\n"
    }
   }
  },
  {
   "cell_type": "code",
   "execution_count": null,
   "outputs": [],
   "source": [
    "#for plot\n",
    "\n",
    "netw_all"
   ],
   "metadata": {
    "collapsed": false,
    "pycharm": {
     "name": "#%%\n"
    }
   }
  },
  {
   "cell_type": "code",
   "execution_count": 56,
   "outputs": [],
   "source": [
    "\n",
    "class GoalPolygon:\n",
    "    def __init__(self, name):\n",
    "        self.name = name\n",
    "        self.frame = ox.geocode_to_gdf(name)\n",
    "        self.frameproj = ox.project_gdf(ox.geocode_to_gdf(name))\n",
    "        self.polygon = self.coordinates_poly()\n",
    "        self.network = self.network_clean()\n",
    "\n",
    "    def coordinates_poly(self):\n",
    "        coordinates = []\n",
    "        polygon = self.frameproj.boundary[0]\n",
    "        # coordinates = list(polygon.coords)\n",
    "        for i in polygon.coords:\n",
    "            coordinates.append(list(i))\n",
    "        return Polygon(coordinates)\n",
    "\n",
    "    def network_clean(self):\n",
    "        network = ox.graph_from_place(self.name, network_type=\"all\", buffer_dist=50)\n",
    "        network = ox.project_graph(network)\n",
    "        gdf_nodes, gdf_edges = ox.graph_to_gdfs(network)\n",
    "\n",
    "        for i in gdf_edges.geometry.keys():\n",
    "            if gdf_edges.geometry[i].crosses(self.polygon) or self.polygon.covers(gdf_edges.geometry[i]):\n",
    "                network.remove_edge(*i)\n",
    "            else:\n",
    "                pass\n",
    "        network = ox.utils_graph.remove_isolated_nodes(network)\n",
    "        #ox.plot_graph(network)\n",
    "        return network\n",
    "\n"
   ],
   "metadata": {
    "collapsed": false,
    "pycharm": {
     "name": "#%%\n"
    }
   }
  },
  {
   "cell_type": "code",
   "execution_count": null,
   "outputs": [],
   "source": [
    "#for plot\n",
    "\n",
    "netw_all"
   ],
   "metadata": {
    "collapsed": false,
    "pycharm": {
     "name": "#%%\n"
    }
   }
  },
  {
   "cell_type": "code",
   "execution_count": 1,
   "outputs": [
    {
     "ename": "NameError",
     "evalue": "name 'GoalPolygon' is not defined",
     "output_type": "error",
     "traceback": [
      "\u001B[0;31m---------------------------------------------------------------------------\u001B[0m",
      "\u001B[0;31mNameError\u001B[0m                                 Traceback (most recent call last)",
      "Input \u001B[0;32mIn [1]\u001B[0m, in \u001B[0;36m<cell line: 1>\u001B[0;34m()\u001B[0m\n\u001B[0;32m----> 1\u001B[0m place \u001B[38;5;241m=\u001B[39m \u001B[43mGoalPolygon\u001B[49m([\u001B[38;5;124m'\u001B[39m\u001B[38;5;124mОдинцово-1\u001B[39m\u001B[38;5;124m'\u001B[39m])\n\u001B[1;32m      2\u001B[0m nodes, edges \u001B[38;5;241m=\u001B[39m ox\u001B[38;5;241m.\u001B[39mgraph_to_gdfs(place\u001B[38;5;241m.\u001B[39mnetwork)\n\u001B[1;32m      3\u001B[0m fig, ax \u001B[38;5;241m=\u001B[39m plt\u001B[38;5;241m.\u001B[39msubplots(figsize\u001B[38;5;241m=\u001B[39m(\u001B[38;5;241m12\u001B[39m, \u001B[38;5;241m12\u001B[39m))\n",
      "\u001B[0;31mNameError\u001B[0m: name 'GoalPolygon' is not defined"
     ]
    }
   ],
   "source": [
    "place = GoalPolygon(['Одинцово-1'])\n",
    "nodes, edges = ox.graph_to_gdfs(place.network)\n",
    "fig, ax = plt.subplots(figsize=(12, 12))\n",
    "ax.set_facecolor('lightgrey')\n",
    "x,y = place.polygon.exterior.xy\n",
    "plt.plot(x,y,color='pink')\n",
    "edges.plot(ax=ax, linewidth=2, edgecolor='pink')\n"
   ],
   "metadata": {
    "collapsed": false,
    "pycharm": {
     "name": "#%%\n"
    }
   }
  },
  {
   "cell_type": "code",
   "execution_count": null,
   "outputs": [],
   "source": [],
   "metadata": {
    "collapsed": false,
    "pycharm": {
     "name": "#%%\n"
    }
   }
  }
 ],
 "metadata": {
  "kernelspec": {
   "display_name": "Python 3",
   "language": "python",
   "name": "python3"
  },
  "language_info": {
   "codemirror_mode": {
    "name": "ipython",
    "version": 2
   },
   "file_extension": ".py",
   "mimetype": "text/x-python",
   "name": "python",
   "nbconvert_exporter": "python",
   "pygments_lexer": "ipython2",
   "version": "2.7.6"
  }
 },
 "nbformat": 4,
 "nbformat_minor": 0
}